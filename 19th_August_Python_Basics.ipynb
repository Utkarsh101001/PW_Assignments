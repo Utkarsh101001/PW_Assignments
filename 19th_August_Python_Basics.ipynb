{
 "cells": [
  {
   "cell_type": "markdown",
   "id": "e22f004a-a186-40aa-b383-effc3f40eaab",
   "metadata": {
    "tags": []
   },
   "source": [
    "Name: Utkarsh Sharma,\n",
    "Assignment 1: Python Basics "
   ]
  },
  {
   "cell_type": "markdown",
   "id": "5c4ca57a-4ed6-4659-9266-1a8f54c5684e",
   "metadata": {
    "tags": []
   },
   "source": [
    "Topic 1: Python Basic Variable"
   ]
  },
  {
   "cell_type": "code",
   "execution_count": 1,
   "id": "452540cb-1b4a-468c-b8ac-5c5cd2119d58",
   "metadata": {},
   "outputs": [],
   "source": [
    "# Question 1\n",
    "\n",
    "x,y = 4,5 #Declaring two variables, and assigning them integer values. Here, x = 4 and y = 5.\n",
    "(x,y) = (y,x) # Swapping values of variables without using any temporary variable. "
   ]
  },
  {
   "cell_type": "code",
   "execution_count": 2,
   "id": "5ed3c9cd-b802-43bb-aa75-370e8acccc05",
   "metadata": {},
   "outputs": [
    {
     "data": {
      "text/plain": [
       "5"
      ]
     },
     "execution_count": 2,
     "metadata": {},
     "output_type": "execute_result"
    }
   ],
   "source": [
    "x  # Now Value of x in 5"
   ]
  },
  {
   "cell_type": "code",
   "execution_count": 3,
   "id": "6ddffc47-02dc-4b44-8896-0fbad39c14e4",
   "metadata": {},
   "outputs": [
    {
     "data": {
      "text/plain": [
       "4"
      ]
     },
     "execution_count": 3,
     "metadata": {},
     "output_type": "execute_result"
    }
   ],
   "source": [
    "y  # Now value of y is 4"
   ]
  },
  {
   "cell_type": "code",
   "execution_count": 4,
   "id": "07073514-c410-4bf9-83f6-f3e264e1c0ae",
   "metadata": {},
   "outputs": [
    {
     "name": "stdin",
     "output_type": "stream",
     "text": [
      "Length 0f Rectangle: 5\n",
      "Width Of Recatangle: 6\n"
     ]
    },
    {
     "name": "stdout",
     "output_type": "stream",
     "text": [
      "Area Of Rectangle Is:  30.0\n"
     ]
    }
   ],
   "source": [
    "# Question 2\n",
    "\n",
    "length = float(input('Length 0f Rectangle:'))  # Taking length as a float input \n",
    "width = float(input('Width Of Recatangle:'))   # Taking Width as a float input\n",
    "area = length*width                            # Calculating Area\n",
    "print('Area Of Rectangle Is: ',area)           # Printing result"
   ]
  },
  {
   "cell_type": "code",
   "execution_count": 5,
   "id": "9dac667f-9448-418e-bbde-369f97fec61b",
   "metadata": {},
   "outputs": [
    {
     "name": "stdin",
     "output_type": "stream",
     "text": [
      "Temperature In Celsius 56\n"
     ]
    },
    {
     "name": "stdout",
     "output_type": "stream",
     "text": [
      "Temperature In Fahrenheit Is:  132.8\n"
     ]
    }
   ],
   "source": [
    "c = float(input('Temperature In Celsius'))    # Taking temperature in Celsius as float input.\n",
    "f = 9/5*c + 32                                # Converting temperature into Fahrenheit.\n",
    "print('Temperature In Fahrenheit Is: ',f)     # Printing result"
   ]
  },
  {
   "cell_type": "raw",
   "id": "39a7b51b-d26f-4271-84ec-545d84ca3854",
   "metadata": {},
   "source": []
  },
  {
   "cell_type": "markdown",
   "id": "f9db771e-b979-49d2-90c5-b9ead8ff6e60",
   "metadata": {},
   "source": [
    "Topic: String Based Questions"
   ]
  },
  {
   "cell_type": "code",
   "execution_count": 6,
   "id": "2cae08bf-f8d1-47da-a08d-a35f250484ae",
   "metadata": {},
   "outputs": [
    {
     "name": "stdin",
     "output_type": "stream",
     "text": [
      "Enter String My name is Utkarsh\n"
     ]
    },
    {
     "name": "stdout",
     "output_type": "stream",
     "text": [
      "Length Of The String Is:  18\n"
     ]
    }
   ],
   "source": [
    "# Question 1\n",
    "\n",
    "string = str(input('Enter String'))        # Taking a string as input\n",
    "length = len(string)                       # Using inbuilt len() function to calculate length of the string. \n",
    "print('Length Of The String Is: ',length)  # Printing result."
   ]
  },
  {
   "cell_type": "code",
   "execution_count": 7,
   "id": "e110c7b7-5c89-463a-acf7-d83ac4095d8a",
   "metadata": {},
   "outputs": [
    {
     "name": "stdin",
     "output_type": "stream",
     "text": [
      "Enter A Sentence:  I live in Varanasi\n"
     ]
    },
    {
     "name": "stdout",
     "output_type": "stream",
     "text": [
      "Number Of Vowels =  8\n"
     ]
    }
   ],
   "source": [
    "# Question 2\n",
    "\n",
    "string = str(input('Enter A Sentence: '))                # Taking a sentence as input\n",
    "vowels = ['a','e','i','o','u','A','E','I','O','U']       # Creating a lisyt of vowels for both upper and lower case.\n",
    "str_vowels = []                                          # creating an empty list for vowels in the sentence. \n",
    "for i in range (0, len(string)):                         # This program will check every element of string.\n",
    "    if string[i] in vowels:                              # If an element is in list of vowels defined.\n",
    "        str_vowels.append(string[i])                     # It will be added to the empty list. (append means add to end of)\n",
    "print('Number Of Vowels = ',len(str_vowels)) # Finaly printing number of elements now in list str_vowels."
   ]
  },
  {
   "cell_type": "code",
   "execution_count": 8,
   "id": "0c0a2b20-53c6-4b2d-8235-eec7413e247b",
   "metadata": {},
   "outputs": [
    {
     "name": "stdin",
     "output_type": "stream",
     "text": [
      "Enter A Sentence:  I live in Varanasi\n"
     ]
    },
    {
     "name": "stdout",
     "output_type": "stream",
     "text": [
      "Number Of Vowels =  8\n"
     ]
    }
   ],
   "source": [
    "# Another way of doing question 2\n",
    "string = str(input('Enter A Sentence: '))                # Taking a sentence as input\n",
    "number_vowel = 0                                         # Starring vowel count from zero\n",
    "for char in string:                                      # Using inbuilt functin char to check every elemnt of string.\n",
    "    if char in 'aeiouAEIOU':                             # If a character of string is also present in string 'aeiouAEIOU'\n",
    "        number_vowel = number_vowel + 1                  # Then increase vowel coun by 1\n",
    "print('Number Of Vowels = ',number_vowel)                # Print final vowel count"
   ]
  },
  {
   "cell_type": "code",
   "execution_count": 9,
   "id": "f1c9fa85-4a0e-4444-a8aa-9d2a18d7b36e",
   "metadata": {},
   "outputs": [
    {
     "name": "stdin",
     "output_type": "stream",
     "text": [
      "Enter A string:  This is a good resturant.\n"
     ]
    },
    {
     "name": "stdout",
     "output_type": "stream",
     "text": [
      "String in reversed order:  .tnarutser doog a si sihT\n"
     ]
    }
   ],
   "source": [
    "# Question 3\n",
    "string = str(input('Enter A string: '))                # Taking a string as input\n",
    "reversed_string = string[::-1]                         # Reversing the string using slicing\n",
    "print('String in reversed order: ',reversed_string)    # Printing result"
   ]
  },
  {
   "cell_type": "code",
   "execution_count": 10,
   "id": "3b63aad8-212a-4a7d-bc35-fe1f46d2cdd8",
   "metadata": {},
   "outputs": [
    {
     "name": "stdin",
     "output_type": "stream",
     "text": [
      "Enter A string:  red\n"
     ]
    },
    {
     "name": "stdout",
     "output_type": "stream",
     "text": [
      "This is not a palindrome\n"
     ]
    }
   ],
   "source": [
    "# Question 4\n",
    "\n",
    "string = str(input('Enter A string: '))                # Taking a string as input.\n",
    "if string.lower() == string[::-1].lower():                             # Checking is string is same as its reverse.\n",
    "    print('This is a palindrome')                      # If yes, printing 'This is a palindrome'.\n",
    "else:\n",
    "    print('This is not a palindrome')                  # Else, printing 'This is not a palindrome'."
   ]
  },
  {
   "cell_type": "code",
   "execution_count": 12,
   "id": "c5bab648-d41e-4a56-ac95-6f30500d7ea6",
   "metadata": {},
   "outputs": [
    {
     "name": "stdin",
     "output_type": "stream",
     "text": [
      "Enter A string: My name is Utkarsh\n"
     ]
    },
    {
     "name": "stdout",
     "output_type": "stream",
     "text": [
      "Modified String: MynameisUtkarsh\n"
     ]
    }
   ],
   "source": [
    "#Question 5\n",
    "\n",
    "string = str(input('Enter A string:'))                # Taking a string as input.\n",
    "modified_string = string.replace(' ','')\n",
    "print('Modified String:',modified_string)"
   ]
  }
 ],
 "metadata": {
  "kernelspec": {
   "display_name": "Python 3 (ipykernel)",
   "language": "python",
   "name": "python3"
  },
  "language_info": {
   "codemirror_mode": {
    "name": "ipython",
    "version": 3
   },
   "file_extension": ".py",
   "mimetype": "text/x-python",
   "name": "python",
   "nbconvert_exporter": "python",
   "pygments_lexer": "ipython3",
   "version": "3.10.8"
  }
 },
 "nbformat": 4,
 "nbformat_minor": 5
}
